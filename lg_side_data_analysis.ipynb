{
 "cells": [
  {
   "cell_type": "code",
   "execution_count": 9,
   "metadata": {},
   "outputs": [],
   "source": [
    "import os\n",
    "import pandas as pd\n",
    "\n",
    "classes = ['SNR', 'AF', 'IAVB', 'LBBB', 'RBBB', 'PAC', 'PVC', 'STD', 'STE']\n",
    "\n"
   ]
  },
  {
   "cell_type": "code",
   "execution_count": 8,
   "metadata": {},
   "outputs": [
    {
     "name": "stdout",
     "output_type": "stream",
     "text": [
      "  patient_id  PAC  RBBB  LBBB  PVC  STD  AF  IAVB  STE  SNR  fold\n",
      "0    JS00001    0     1     0    0    0   1     0    0    0     2\n",
      "1    JS00005    0     0     0    0    1   0     0    0    0     5\n",
      "2    JS00007    0     0     0    0    0   1     0    0    0     5\n",
      "3    JS00008    0     0     0    0    0   0     0    0    1     5\n",
      "4    JS00013    0     0     0    0    0   0     1    0    0     4\n",
      "[ 2  5  4  9  8  1  7  3 10  6]\n",
      "fold\n",
      "4     463\n",
      "7     463\n",
      "10    463\n",
      "2     462\n",
      "5     462\n",
      "9     462\n",
      "8     462\n",
      "1     462\n",
      "3     462\n",
      "6     462\n",
      "Name: count, dtype: int64\n"
     ]
    }
   ],
   "source": [
    "test_data_dir ='data/test_dataset'\n",
    "test_label_csv = os.path.join(test_data_dir, 'labels.csv')\n",
    "# Load the test labels\n",
    "test_labels = pd.read_csv(test_label_csv)\n",
    "#show the first few rows\n",
    "print(test_labels.head())\n",
    "#unique fold from small to large\n",
    "print(test_labels['fold'].unique())\n",
    "#number of samples in each fold\n",
    "print(test_labels['fold'].value_counts())"
   ]
  },
  {
   "cell_type": "code",
   "execution_count": 4,
   "metadata": {},
   "outputs": [
    {
     "name": "stdout",
     "output_type": "stream",
     "text": [
      "  patient_id  PAC  RBBB  LBBB  PVC  STD  AF  IAVB  STE  SNR  fold\n",
      "0    JS00001    0     1     0    0    0   1     0    0    0     2\n",
      "1    JS00005    0     0     0    0    1   0     0    0    0     5\n",
      "2    JS00007    0     0     0    0    0   1     0    0    0     5\n",
      "3    JS00008    0     0     0    0    0   0     0    0    1     5\n",
      "4    JS00013    0     0     0    0    0   0     1    0    0     4\n",
      "SNR: 1826\n",
      "AF: 1780\n",
      "IAVB: 247\n",
      "LBBB: 205\n",
      "RBBB: 454\n",
      "PAC: 258\n",
      "PVC: 0\n",
      "STD: 402\n",
      "STE: 176\n"
     ]
    }
   ],
   "source": [
    "#search all .csv extension files in the test_dataset\n",
    "# for root, dirs, files in os.walk(test_data_dir):\n",
    "#     for file in files:\n",
    "#         if file.endswith('.csv'):\n",
    "#             print(file)\n",
    "\n",
    "#from test_dataset\n",
    "test_labels = pd.read_csv('/workspaces/ecg-arrhythmia-model/data/test_dataset/labels.csv')\n",
    "print(test_labels.head())\n",
    "\n",
    "#count unique values in the classes\n",
    "for c in classes:\n",
    "    print(f'{c}: {test_labels[c].sum()}')\n",
    "\n",
    "\n",
    "\n",
    "\n"
   ]
  },
  {
   "cell_type": "code",
   "execution_count": 7,
   "metadata": {},
   "outputs": [
    {
     "name": "stdout",
     "output_type": "stream",
     "text": [
      "  patient_id  PAC  RBBB  LBBB  PVC  STD  AF  IAVB  STE  SNR  fold\n",
      "0      A0001    0     1     0    0    0   0     0    0    0     8\n",
      "1      A0002    0     0     0    0    0   0     0    0    1     1\n",
      "2      A0003    0     0     0    0    0   1     0    0    0     6\n",
      "3      A0004    0     0     0    0    0   1     0    0    0     2\n",
      "4      A0005    0     0     0    1    0   0     0    0    0     1\n",
      "SNR: 19014\n",
      "AF: 2888\n",
      "IAVB: 1625\n",
      "LBBB: 810\n",
      "RBBB: 2513\n",
      "PAC: 1295\n",
      "PVC: 1854\n",
      "STD: 1935\n",
      "STE: 314\n"
     ]
    }
   ],
   "source": [
    "#from train_dataset\n",
    "test_labels = pd.read_csv('/workspaces/ecg-arrhythmia-model/data/train_dataset/labels.csv')\n",
    "print(test_labels.head())\n",
    "classes = ['SNR', 'AF', 'IAVB', 'LBBB', 'RBBB', 'PAC', 'PVC', 'STD', 'STE']\n",
    "#count unique values in the classes\n",
    "for c in classes:\n",
    "    print(f'{c}: {test_labels[c].sum()}')"
   ]
  },
  {
   "cell_type": "code",
   "execution_count": 5,
   "metadata": {},
   "outputs": [
    {
     "name": "stdout",
     "output_type": "stream",
     "text": [
      "SNR: 1826.0\n",
      "AF: 1780.0\n",
      "IAVB: 247.0\n",
      "LBBB: 205.0\n",
      "RBBB: 454.0\n",
      "PAC: 258.0\n",
      "PVC: 1.0\n",
      "STD: 402.0\n",
      "STE: 176.0\n"
     ]
    }
   ],
   "source": [
    "#make a duplcated copy of the labels.csv file in test_dataset\n",
    "import shutil\n",
    "shutil.copy('/workspaces/ecg-arrhythmia-model/data/test_dataset/labels.csv', '/workspaces/ecg-arrhythmia-model/data/test_dataset/labels_altered.csv')\n",
    "#alter the labels_altered.csv\n",
    "test_labels = pd.read_csv('/workspaces/ecg-arrhythmia-model/data/test_dataset/labels_altered.csv')\n",
    "#duplicate last row of the labels_altered.csv\n",
    "test_labels = pd.concat([test_labels,test_labels.iloc[-1]], ignore_index=True)\n",
    "#alter PVC value of the last row to 1\n",
    "test_labels.loc[test_labels.index[-1], 'PVC'] = 1\n",
    "#verify count unique values in the classes\n",
    "for c in classes:\n",
    "    print(f'{c}: {test_labels[c].sum()}')\n",
    "#save the altered labels\n",
    "test_labels.to_csv('/workspaces/ecg-arrhythmia-model/data/test_dataset/labels_altered.csv', index=False)"
   ]
  },
  {
   "cell_type": "code",
   "execution_count": 10,
   "metadata": {},
   "outputs": [
    {
     "name": "stdout",
     "output_type": "stream",
     "text": [
      "fold\n",
      "4     463\n",
      "7     463\n",
      "10    463\n",
      "2     462\n",
      "5     462\n",
      "9     462\n",
      "8     462\n",
      "1     462\n",
      "3     462\n",
      "6     462\n",
      "Name: count, dtype: int64\n"
     ]
    }
   ],
   "source": [
    "#count unique values in the folds\n",
    "print(test_labels['fold'].value_counts())"
   ]
  },
  {
   "cell_type": "code",
   "execution_count": 9,
   "metadata": {},
   "outputs": [
    {
     "name": "stdout",
     "output_type": "stream",
     "text": [
      "Class distribution in y_true: Counter({0: 1826, 1: 1780, 4: 248, 2: 217, 5: 194, 7: 152, 3: 121, 8: 85})\n",
      "Class 6 has only one unique value: 0.0\n",
      "IAVB\n",
      "  patient_id  PAC  RBBB  LBBB  PVC  STD   AF  IAVB  STE  SNR  fold    0\n",
      "0    JS00001  0.0   1.0   0.0  0.0  0.0  1.0   0.0  0.0  0.0   2.0  NaN\n",
      "1    JS00005  0.0   0.0   0.0  0.0  1.0  0.0   0.0  0.0  0.0   5.0  NaN\n",
      "2    JS00007  0.0   0.0   0.0  0.0  0.0  1.0   0.0  0.0  0.0   5.0  NaN\n",
      "3    JS00008  0.0   0.0   0.0  0.0  0.0  0.0   0.0  0.0  1.0   5.0  NaN\n",
      "4    JS00013  0.0   0.0   0.0  0.0  0.0  0.0   1.0  0.0  0.0   4.0  NaN\n",
      "SNR: 1826.0\n",
      "AF: 1780.0\n",
      "IAVB: 247.0\n",
      "LBBB: 205.0\n",
      "RBBB: 454.0\n",
      "PAC: 258.0\n",
      "PVC: 1.0\n",
      "STD: 402.0\n",
      "STE: 176.0\n"
     ]
    }
   ],
   "source": [
    "import numpy as np\n",
    "from collections import Counter\n",
    "\n",
    "#load the y_trues and y_scores from file txt\n",
    "y_trues_test = np.loadtxt('/workspaces/ecg-arrhythmia-model/y_trues_test.txt')\n",
    "y_scores_test = np.loadtxt('/workspaces/ecg-arrhythmia-model/y_scores_test.txt')\n",
    "\n",
    "\n",
    "# Convert one-hot encoded y_true to class labels\n",
    "y_true_classes_test = np.argmax(y_trues_test, axis=1)\n",
    "\n",
    "# Check class distribution\n",
    "class_distribution_test = Counter(y_true_classes_test)\n",
    "print(\"Class distribution in y_true:\", class_distribution_test)\n",
    "\n",
    "# Identify problematic classes\n",
    "for class_index in range(y_trues_test.shape[1]):\n",
    "    class_true = y_trues_test[:, class_index]\n",
    "    unique_values = np.unique(class_true)\n",
    "    if len(unique_values) == 1:\n",
    "        print(f\"Class {class_index} has only one unique value: {unique_values[0]}\")\n",
    "\n",
    "#get the name of the classes index 6\n",
    "# Load the class names\n",
    "class_names = pd.read_csv('/workspaces/ecg-arrhythmia-model/data/test_dataset/labels_altered.csv').columns[1:]        \n",
    "print(class_names[6])\n",
    "\n",
    "# Load few rows of the labels_altered.csv\n",
    "labels = pd.read_csv('/workspaces/ecg-arrhythmia-model/data/test_dataset/labels_altered.csv')\n",
    "print(labels.head())\n",
    "\n",
    "#count unique values in the classes\n",
    "for c in classes:\n",
    "    print(f'{c}: {labels[c].sum()}')\n",
    "    \n",
    "#alter the labels_altered.csv to make the PVC class not unique\n",
    "#duplicate last row of the labels_altered.csv\n",
    "labels = pd.concat([labels, labels.iloc[-1]], ignore_index=True)\n",
    "\n"
   ]
  },
  {
   "cell_type": "code",
   "execution_count": 11,
   "metadata": {},
   "outputs": [
    {
     "name": "stdout",
     "output_type": "stream",
     "text": [
      "Class distribution in y_true: Counter({0: 1908, 1: 297, 4: 182, 2: 113, 6: 86, 7: 79, 5: 69, 3: 27, 8: 22})\n"
     ]
    }
   ],
   "source": [
    "import numpy as np\n",
    "from collections import Counter\n",
    "\n",
    "#load the y_trues and y_scores from file txt\n",
    "y_trues_org = np.loadtxt('/workspaces/ecg-arrhythmia-model/y_trues_org.txt')\n",
    "y_scores_org = np.loadtxt('/workspaces/ecg-arrhythmia-model/y_scores_org.txt')\n",
    "\n",
    "\n",
    "# Convert one-hot encoded y_true to class labels\n",
    "y_true_classes_org = np.argmax(y_trues_org, axis=1)\n",
    "\n",
    "# Check class distribution\n",
    "class_distribution_org = Counter(y_true_classes_org)\n",
    "print(\"Class distribution in y_true:\", class_distribution_org)\n",
    "\n",
    "# Identify problematic classes\n",
    "for class_index in range(y_trues_org.shape[1]):\n",
    "    class_true = y_trues_org[:, class_index]\n",
    "    unique_values = np.unique(class_true)\n",
    "    if len(unique_values) == 1:\n",
    "        print(f\"Class {class_index} has only one unique value: {unique_values[0]}\")\n",
    "\n",
    "\n",
    "\n"
   ]
  },
  {
   "cell_type": "code",
   "execution_count": 12,
   "metadata": {},
   "outputs": [
    {
     "name": "stdout",
     "output_type": "stream",
     "text": [
      "[[0. 1. 0. 0. 1. 0. 0. 0. 0.]\n",
      " [0. 0. 0. 0. 0. 0. 0. 1. 0.]\n",
      " [0. 1. 0. 0. 0. 0. 0. 0. 0.]\n",
      " [1. 0. 0. 0. 0. 0. 0. 0. 0.]\n",
      " [0. 0. 1. 0. 0. 0. 0. 0. 0.]]\n",
      "(4646, 13)\n"
     ]
    }
   ],
   "source": [
    "#print y_trues_test few rows\n",
    "print(y_trues_test[:5])\n",
    "\n",
    "#print labels_altered.csv shape\n",
    "print(labels.shape)"
   ]
  },
  {
   "cell_type": "code",
   "execution_count": 6,
   "metadata": {},
   "outputs": [
    {
     "name": "stdout",
     "output_type": "stream",
     "text": [
      "(4623, 11)\n",
      "(2782, 11)\n",
      "Label distribution in the train dataset, fold 9:\n"
     ]
    },
    {
     "ename": "NameError",
     "evalue": "name 'classes' is not defined",
     "output_type": "error",
     "traceback": [
      "\u001b[0;31m---------------------------------------------------------------------------\u001b[0m",
      "\u001b[0;31mNameError\u001b[0m                                 Traceback (most recent call last)",
      "Cell \u001b[0;32mIn[6], line 15\u001b[0m\n\u001b[1;32m     13\u001b[0m \u001b[38;5;66;03m#count unique values in the class of labels_train, fold 9\u001b[39;00m\n\u001b[1;32m     14\u001b[0m \u001b[38;5;28mprint\u001b[39m(\u001b[38;5;124m\"\u001b[39m\u001b[38;5;124mLabel distribution in the train dataset, fold 9:\u001b[39m\u001b[38;5;124m\"\u001b[39m)\n\u001b[0;32m---> 15\u001b[0m \u001b[38;5;28;01mfor\u001b[39;00m c \u001b[38;5;129;01min\u001b[39;00m \u001b[43mclasses\u001b[49m:    \n\u001b[1;32m     16\u001b[0m     \u001b[38;5;28mprint\u001b[39m(\u001b[38;5;124mf\u001b[39m\u001b[38;5;124m'\u001b[39m\u001b[38;5;132;01m{\u001b[39;00mc\u001b[38;5;132;01m}\u001b[39;00m\u001b[38;5;124m: \u001b[39m\u001b[38;5;132;01m{\u001b[39;00mlabels_train[labels_train[\u001b[38;5;124m\"\u001b[39m\u001b[38;5;124mfold\u001b[39m\u001b[38;5;124m\"\u001b[39m]\u001b[38;5;250m \u001b[39m\u001b[38;5;241m==\u001b[39m\u001b[38;5;250m \u001b[39m\u001b[38;5;241m9\u001b[39m][c]\u001b[38;5;241m.\u001b[39msum()\u001b[38;5;132;01m}\u001b[39;00m\u001b[38;5;124m'\u001b[39m)\n\u001b[1;32m     17\u001b[0m \u001b[38;5;28mprint\u001b[39m(\u001b[38;5;124m\"\u001b[39m\u001b[38;5;124mLabel distribution in the test dataset:\u001b[39m\u001b[38;5;124m\"\u001b[39m)\n",
      "\u001b[0;31mNameError\u001b[0m: name 'classes' is not defined"
     ]
    }
   ],
   "source": [
    "#load 05 rows of labels.csv from test_dataset\n",
    "labels_test = pd.read_csv('/workspaces/ecg-arrhythmia-model/data/test_dataset/labels.csv')\n",
    "# print(labels_test.head())\n",
    "#load 05 rows of train_dataset/labels.csv where folds = 9\n",
    "labels_train = pd.read_csv('/workspaces/ecg-arrhythmia-model/data/train_dataset/labels.csv')\n",
    "# print(labels_train[labels_train['fold'] == 9].head())\n",
    "\n",
    "#structure of the labels_altered.csv\n",
    "print(labels_test.shape)\n",
    "#structure of the train_dataset/labels.csv\n",
    "print(labels_train[labels_train['fold'] == 9].shape)\n",
    "\n",
    "#count unique values in the class of labels_train, fold 9\n",
    "print(\"Label distribution in the train dataset, fold 9:\")\n",
    "for c in classes:    \n",
    "    print(f'{c}: {labels_train[labels_train[\"fold\"] == 9][c].sum()}')\n",
    "print(\"Label distribution in the test dataset:\")\n",
    "for c in classes:    \n",
    "    print(f'{c}: {labels_test[c].sum()}')\n"
   ]
  },
  {
   "cell_type": "code",
   "execution_count": 15,
   "metadata": {},
   "outputs": [
    {
     "name": "stdout",
     "output_type": "stream",
     "text": [
      "Label distribution in the test dataset:\n",
      "SNR: 1826\n",
      "AF: 1780\n",
      "IAVB: 217\n",
      "LBBB: 194\n",
      "RBBB: 428\n",
      "PAC: 222\n",
      "PVC: 1826\n",
      "STD: 372\n",
      "STE: 157\n"
     ]
    }
   ],
   "source": [
    "#delete file labels_altered.csv if it exists\n",
    "if os.path.exists('/workspaces/ecg-arrhythmia-model/data/test_dataset/labels_altered.csv'):\n",
    "    os.remove('/workspaces/ecg-arrhythmia-model/data/test_dataset/labels_altered.csv')\n",
    "#make new labels_altered.csv with the same content as labels.csv in test_dataset\n",
    "shutil.copy('/workspaces/ecg-arrhythmia-model/data/test_dataset/labels.csv', '/workspaces/ecg-arrhythmia-model/data/test_dataset/labels_altered.csv')\n",
    "#update top 200 SNR records of labels_altered.csv to have PVC = 1, others = 0\n",
    "labels = pd.read_csv('/workspaces/ecg-arrhythmia-model/data/test_dataset/labels_altered.csv')\n",
    "labels.loc[labels['SNR'] == 1, 'PVC'] = 1\n",
    "labels.loc[labels['SNR'] == 1, 'AF'] = 0\n",
    "labels.loc[labels['SNR'] == 1, 'IAVB'] = 0\n",
    "labels.loc[labels['SNR'] == 1, 'LBBB'] = 0\n",
    "labels.loc[labels['SNR'] == 1, 'RBBB'] = 0\n",
    "labels.loc[labels['SNR'] == 1, 'PAC'] = 0\n",
    "labels.loc[labels['SNR'] == 1, 'STD'] = 0\n",
    "labels.loc[labels['SNR'] == 1, 'STE'] = 0\n",
    "#save the altered labels\n",
    "labels.to_csv('/workspaces/ecg-arrhythmia-model/data/test_dataset/labels_altered.csv', index=False)\n",
    "\n",
    "#check distribution of the classes in the altered labels\n",
    "print(\"Label distribution in the test dataset:\")\n",
    "for c in classes:    \n",
    "    print(f'{c}: {labels[c].sum()}')\n"
   ]
  },
  {
   "cell_type": "code",
   "execution_count": 2,
   "metadata": {},
   "outputs": [
    {
     "data": {
      "text/plain": [
       "'/workspaces/ecg-arrhythmia-model/data/train_dataset/labels_altered.csv'"
      ]
     },
     "execution_count": 2,
     "metadata": {},
     "output_type": "execute_result"
    }
   ],
   "source": [
    "import shutil\n",
    "# #duplicate labels_altered.csv from test_dataset to train_dataset\n",
    "# shutil.copy('/workspaces/ecg-arrhythmia-model/data/test_dataset/labels_altered.csv', '/workspaces/ecg-arrhythmia-model/data/train_dataset/labels_altered.csv')"
   ]
  },
  {
   "cell_type": "code",
   "execution_count": 12,
   "metadata": {},
   "outputs": [
    {
     "name": "stdout",
     "output_type": "stream",
     "text": [
      "(4623, 11)\n",
      "(2782, 11)\n",
      "Label distribution in the train dataset:\n",
      "SNR: 1915\n",
      "AF: 307\n",
      "IAVB: 169\n",
      "LBBB: 76\n",
      "RBBB: 245\n",
      "PAC: 128\n",
      "PVC: 179\n",
      "STD: 193\n",
      "STE: 32\n",
      "Label distribution in the test dataset:\n",
      "SNR: 1826\n",
      "AF: 1780\n",
      "IAVB: 247\n",
      "LBBB: 205\n",
      "RBBB: 454\n",
      "PAC: 258\n",
      "PVC: 0\n",
      "STD: 402\n",
      "STE: 176\n",
      "  patient_id  PAC  RBBB  LBBB  PVC  STD  AF  IAVB  STE  SNR  fold\n",
      "0    JS00001    0     1     0    0    0   1     0    0    0     2\n",
      "1    JS00005    0     0     0    0    1   0     0    0    0     5\n",
      "2    JS00007    0     0     0    0    0   1     0    0    0     5\n",
      "3    JS00008    0     0     0    0    0   0     0    0    1     5\n",
      "4    JS00013    0     0     0    0    0   0     1    0    0     4\n",
      "   patient_id  PAC  RBBB  LBBB  PVC  STD  AF  IAVB  STE  SNR  fold\n",
      "15      A0016    0     0     0    0    0   0     0    0    1     9\n",
      "19      A0020    0     0     0    0    0   0     0    0    1     9\n",
      "28      A0029    0     0     0    0    0   0     0    0    1     9\n",
      "46      A0047    1     0     0    0    0   0     0    0    0     9\n",
      "59      A0060    0     0     0    0    1   0     0    0    0     9\n"
     ]
    }
   ],
   "source": [
    "#compare structure, distribution of labels.csv in train_dataset and labels.csv in test_dataset\n",
    "#structure of the labels.csv in test_dataset\n",
    "print(labels_test.shape)\n",
    "#structure of the labels.csv in train_dataset\n",
    "print(labels_train[labels_train['fold'] == 9].shape)\n",
    "#count unique values in the classes\n",
    "print(\"Label distribution in the train dataset:\")\n",
    "for c in classes:    \n",
    "    print(f'{c}: {labels_train[labels_train[\"fold\"] == 9][c].sum()}')\n",
    "print(\"Label distribution in the test dataset:\")\n",
    "for c in classes:    \n",
    "    print(f'{c}: {labels_test[c].sum()}')\n",
    "#print the first few rows of the labels.csv in test_dataset\n",
    "print(labels_test.head())\n",
    "#print the first few rows of the labels.csv in train_dataset\n",
    "print(labels_train[labels_train['fold'] == 9].head())"
   ]
  }
 ],
 "metadata": {
  "kernelspec": {
   "display_name": "Python 3",
   "language": "python",
   "name": "python3"
  },
  "language_info": {
   "codemirror_mode": {
    "name": "ipython",
    "version": 3
   },
   "file_extension": ".py",
   "mimetype": "text/x-python",
   "name": "python",
   "nbconvert_exporter": "python",
   "pygments_lexer": "ipython3",
   "version": "3.10.13"
  }
 },
 "nbformat": 4,
 "nbformat_minor": 2
}
