{
 "cells": [
  {
   "cell_type": "code",
   "execution_count": 2,
   "metadata": {},
   "outputs": [],
   "source": [
    "import os\n",
    "import pandas as pd\n",
    "\n",
    "\n",
    "\n"
   ]
  },
  {
   "cell_type": "code",
   "execution_count": null,
   "metadata": {},
   "outputs": [],
   "source": [
    "test_data_dir ='data/test_dataset'\n",
    "test_label_csv = os.path.join(test_data_dir, 'labels.csv')\n",
    "# Load the test labels\n",
    "test_labels = pd.read_csv(test_label_csv)\n",
    "#show the first few rows\n",
    "print(test_labels.head())\n",
    "#unique fold from small to large\n",
    "print(test_labels['fold'].unique())\n",
    "#number of samples in each fold\n",
    "print(test_labels['fold'].value_counts())"
   ]
  },
  {
   "cell_type": "code",
   "execution_count": 4,
   "metadata": {},
   "outputs": [
    {
     "name": "stdout",
     "output_type": "stream",
     "text": [
      "  patient_id  PAC  RBBB  LBBB  PVC  STD  AF  IAVB  STE  SNR  fold\n",
      "0    JS00001    0     1     0    0    0   1     0    0    0     2\n",
      "1    JS00005    0     0     0    0    1   0     0    0    0     5\n",
      "2    JS00007    0     0     0    0    0   1     0    0    0     5\n",
      "3    JS00008    0     0     0    0    0   0     0    0    1     5\n",
      "4    JS00013    0     0     0    0    0   0     1    0    0     4\n",
      "SNR: 1826\n",
      "AF: 1780\n",
      "IAVB: 247\n",
      "LBBB: 205\n",
      "RBBB: 454\n",
      "PAC: 258\n",
      "PVC: 0\n",
      "STD: 402\n",
      "STE: 176\n"
     ]
    }
   ],
   "source": [
    "#search all .csv extension files in the test_dataset\n",
    "# for root, dirs, files in os.walk(test_data_dir):\n",
    "#     for file in files:\n",
    "#         if file.endswith('.csv'):\n",
    "#             print(file)\n",
    "\n",
    "#from test_dataset\n",
    "test_labels = pd.read_csv('/workspaces/ecg-arrhythmia-model/data/test_dataset/labels.csv')\n",
    "print(test_labels.head())\n",
    "classes = ['SNR', 'AF', 'IAVB', 'LBBB', 'RBBB', 'PAC', 'PVC', 'STD', 'STE']\n",
    "#count unique values in the classes\n",
    "for c in classes:\n",
    "    print(f'{c}: {test_labels[c].sum()}')\n",
    "\n",
    "\n",
    "\n",
    "\n"
   ]
  },
  {
   "cell_type": "code",
   "execution_count": 5,
   "metadata": {},
   "outputs": [
    {
     "name": "stdout",
     "output_type": "stream",
     "text": [
      "  patient_id  PAC  RBBB  LBBB  PVC  STD  AF  IAVB  STE  SNR  fold\n",
      "0      A0001    0     1     0    0    0   0     0    0    0     8\n",
      "1      A0002    0     0     0    0    0   0     0    0    1     1\n",
      "2      A0003    0     0     0    0    0   1     0    0    0     6\n",
      "3      A0004    0     0     0    0    0   1     0    0    0     2\n",
      "4      A0005    0     0     0    1    0   0     0    0    0     1\n",
      "SNR: 19014\n",
      "AF: 2888\n",
      "IAVB: 1625\n",
      "LBBB: 810\n",
      "RBBB: 2513\n",
      "PAC: 1295\n",
      "PVC: 1854\n",
      "STD: 1935\n",
      "STE: 314\n"
     ]
    }
   ],
   "source": [
    "#from train_dataset\n",
    "test_labels = pd.read_csv('/workspaces/ecg-arrhythmia-model/data/train_dataset/labels.csv')\n",
    "print(test_labels.head())\n",
    "classes = ['SNR', 'AF', 'IAVB', 'LBBB', 'RBBB', 'PAC', 'PVC', 'STD', 'STE']\n",
    "#count unique values in the classes\n",
    "for c in classes:\n",
    "    print(f'{c}: {test_labels[c].sum()}')"
   ]
  }
 ],
 "metadata": {
  "kernelspec": {
   "display_name": "Python 3",
   "language": "python",
   "name": "python3"
  },
  "language_info": {
   "codemirror_mode": {
    "name": "ipython",
    "version": 3
   },
   "file_extension": ".py",
   "mimetype": "text/x-python",
   "name": "python",
   "nbconvert_exporter": "python",
   "pygments_lexer": "ipython3",
   "version": "3.10.13"
  }
 },
 "nbformat": 4,
 "nbformat_minor": 2
}
