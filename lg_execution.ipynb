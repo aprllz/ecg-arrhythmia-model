{
 "cells": [
  {
   "cell_type": "code",
   "execution_count": 1,
   "metadata": {},
   "outputs": [],
   "source": [
    "# Used for: control data preprocessing and model training, testing, and evaluation\n",
    "# Dataset: data/cpsc_processed: \n",
    "\n",
    "# Dataset: data/op_09_classes/:\n",
    "# - training/evaluation:\n",
    "# - testing:\n",
    "\n",
    "# Dataset: data/op_08_classes (without PVC class in testing data)\n",
    "# - training/evaluation:\n",
    "# - testing:"
   ]
  },
  {
   "cell_type": "code",
   "execution_count": 2,
   "metadata": {},
   "outputs": [],
   "source": [
    "import os"
   ]
  },
  {
   "cell_type": "code",
   "execution_count": null,
   "metadata": {},
   "outputs": [],
   "source": [
    "#prepare data for cpsc_processed:\n",
    "\n",
    "#perform preprocessing,baseline on data/cpsc_processed\n",
    "%run \"preprocess.py\" --data-dir \"data/cpsc_processed\" \n",
    "%run \"baselines.py\" --data-dir \"data/cpsc_processed\" --classifier 'all'"
   ]
  },
  {
   "cell_type": "code",
   "execution_count": null,
   "metadata": {},
   "outputs": [],
   "source": [
    "#prepare data for op_09_classes:\n",
    "\n",
    "#perform preprocessing,baseline on the data, op_9_classes\n",
    "%run \"preprocess.py\" --data-dir \"data/op_09_classes/train_dataset\" \n",
    "%run \"preprocess.py\" --data-dir \"data/op_09_classes/test_dataset\"\n",
    "\n",
    "#perform baseline training on the data, op_9_classes\n",
    "%run \"baselines.py\" --data-dir \"data/op_09_classes/train_dataset\" --classifier 'all'"
   ]
  },
  {
   "cell_type": "code",
   "execution_count": null,
   "metadata": {},
   "outputs": [],
   "source": [
    "#prepare data for op_08_classes:\n",
    "#reset csv files\n",
    "\n",
    "#path to training data and testing data\n",
    "train_data_dir = \"data/cpsc_processed\" \n",
    "test_data_dir = \"data/cpsc_processed\" \n",
    "\n",
    "#count existing .csv files in the training data and testing data\n",
    "\n",
    "#When in Windows\n",
    "# train_csv_files = [f for f in os.listdir(train_data_dir) if f.endswith('.csv')]\n",
    "# test_csv_files = [f for f in os.listdir(test_data_dir) if f.endswith('.csv')]\n",
    "# print(\"Number of .csv files in training data: \", len(train_csv_files))\n",
    "# print(\"Number of .csv files in testing data: \", len(test_csv_files))\n",
    "\n",
    "#When in Linux\n",
    "!ls $train_data_dir/*.csv | wc -l\n",
    "!ls $test_data_dir/*.csv | wc -l"
   ]
  },
  {
   "cell_type": "code",
   "execution_count": null,
   "metadata": {},
   "outputs": [],
   "source": [
    "#delete all existing .csv files in the training/testing data \n",
    "!rm -rf $train_data_dir/*.csv\n",
    "#delete all existing .csv files in the testing data\n",
    "!rm -rf $test_data_dir/*.csv\n"
   ]
  },
  {
   "cell_type": "code",
   "execution_count": null,
   "metadata": {},
   "outputs": [],
   "source": [
    "#prepare data for op_08_classes:\n",
    "\n",
    "#perform preprocessing,baseline on the data, op_08_classes\n",
    "%run \"preprocess.py\" --data-dir \"data/op_08_classes/train_dataset\" --num-classes 8\n",
    "%run \"preprocess.py\" --data-dir \"data/op_08_classes/test_dataset\" --num-classes 8\n",
    "\n",
    "#perform baseline training on the data, op_08_classes\n",
    "%run \"baselines.py\" --data-dir \"data/op_08_classes/train_dataset\" --classifier 'all' --num-classes 8"
   ]
  },
  {
   "cell_type": "code",
   "execution_count": null,
   "metadata": {},
   "outputs": [],
   "source": [
    "#prepare data for cpsc_processed FOR (8 classes):\n",
    "\n",
    "#perform preprocessing,baseline on the data, cpsc_processed\n",
    "%run \"preprocess.py\" --data-dir \"data/cpsc_processed\" --num-classes 8\n",
    "\n",
    "\n",
    "#perform baseline training on the data, cpsc_processed\n",
    "%run \"baselines.py\" --data-dir \"data/cpsc_processed\" --classifier 'all' --num-classes 8"
   ]
  },
  {
   "cell_type": "code",
   "execution_count": 4,
   "metadata": {},
   "outputs": [
    {
     "name": "stdout",
     "output_type": "stream",
     "text": [
      "Training epoch 0:\n"
     ]
    },
    {
     "name": "stderr",
     "output_type": "stream",
     "text": [
      "100%|██████████| 688/688 [42:42<00:00,  3.72s/it]\n"
     ]
    },
    {
     "name": "stdout",
     "output_type": "stream",
     "text": [
      "Loss: 206.2457\n",
      "Validating...\n"
     ]
    },
    {
     "name": "stderr",
     "output_type": "stream",
     "text": [
      "100%|██████████| 86/86 [01:38<00:00,  1.15s/it]\n"
     ]
    },
    {
     "name": "stdout",
     "output_type": "stream",
     "text": [
      "Loss: 20.9010\n",
      "Shape of y_trues: (687, 9)\n",
      "Shape of y_scores: (687, 9)\n",
      "F1s: [0.56470588 0.67383513 0.38818565 0.85714286 0.85549133 0.38297872\n",
      " 0.72131148 0.50306748 0.29885057]\n",
      "Avg F1: 0.5828\n",
      "Training epoch 1:\n"
     ]
    },
    {
     "name": "stderr",
     "output_type": "stream",
     "text": [
      "100%|██████████| 688/688 [42:52<00:00,  3.74s/it]\n"
     ]
    },
    {
     "name": "stdout",
     "output_type": "stream",
     "text": [
      "Loss: 132.2063\n",
      "Validating...\n"
     ]
    },
    {
     "name": "stderr",
     "output_type": "stream",
     "text": [
      "100%|██████████| 86/86 [01:39<00:00,  1.15s/it]\n"
     ]
    },
    {
     "name": "stdout",
     "output_type": "stream",
     "text": [
      "Loss: 14.2034\n",
      "Shape of y_trues: (687, 9)\n",
      "Shape of y_scores: (687, 9)\n",
      "F1s: [0.71717172 0.86923077 0.85517241 0.8852459  0.88888889 0.60869565\n",
      " 0.80991736 0.65248227 0.28571429]\n",
      "Avg F1: 0.7303\n",
      "Training epoch 2:\n"
     ]
    },
    {
     "name": "stderr",
     "output_type": "stream",
     "text": [
      "100%|██████████| 688/688 [42:48<00:00,  3.73s/it]\n"
     ]
    },
    {
     "name": "stdout",
     "output_type": "stream",
     "text": [
      "Loss: 99.1865\n",
      "Validating...\n"
     ]
    },
    {
     "name": "stderr",
     "output_type": "stream",
     "text": [
      "100%|██████████| 86/86 [01:38<00:00,  1.15s/it]\n"
     ]
    },
    {
     "name": "stdout",
     "output_type": "stream",
     "text": [
      "Loss: 11.5219\n",
      "Shape of y_trues: (687, 9)\n",
      "Shape of y_scores: (687, 9)\n",
      "F1s: [0.71921182 0.9254902  0.87417219 0.8852459  0.90449438 0.65454545\n",
      " 0.83870968 0.75       0.38461538]\n",
      "Avg F1: 0.7707\n"
     ]
    }
   ],
   "source": [
    "#Train model, using train data: data/cpsc_processed, with full 09 classes:\n",
    "%run \"main.py\" --data-dir \"data/cpsc_processed\" --epochs 3 --num-workers 2 --batch-size 8 --num-classes 9\n"
   ]
  },
  {
   "cell_type": "code",
   "execution_count": 5,
   "metadata": {},
   "outputs": [
    {
     "name": "stdout",
     "output_type": "stream",
     "text": [
      "Training epoch 0:\n"
     ]
    },
    {
     "name": "stderr",
     "output_type": "stream",
     "text": [
      "100%|██████████| 688/688 [42:44<00:00,  3.73s/it]\n"
     ]
    },
    {
     "name": "stdout",
     "output_type": "stream",
     "text": [
      "Loss: 210.8264\n",
      "Validating...\n"
     ]
    },
    {
     "name": "stderr",
     "output_type": "stream",
     "text": [
      "100%|██████████| 86/86 [01:39<00:00,  1.15s/it]\n"
     ]
    },
    {
     "name": "stdout",
     "output_type": "stream",
     "text": [
      "Loss: 18.1999\n",
      "Shape of y_trues: (687, 8)\n",
      "Shape of y_scores: (687, 8)\n",
      "F1s: [0.62068966 0.63436123 0.40869565 0.84848485 0.88549618 0.42105263\n",
      " 0.44334975 0.31111111]\n",
      "Avg F1: 0.5717\n",
      "Training epoch 1:\n"
     ]
    },
    {
     "name": "stderr",
     "output_type": "stream",
     "text": [
      "100%|██████████| 688/688 [42:46<00:00,  3.73s/it]\n"
     ]
    },
    {
     "name": "stdout",
     "output_type": "stream",
     "text": [
      "Loss: 135.8339\n",
      "Validating...\n"
     ]
    },
    {
     "name": "stderr",
     "output_type": "stream",
     "text": [
      "100%|██████████| 86/86 [01:38<00:00,  1.15s/it]\n"
     ]
    },
    {
     "name": "stdout",
     "output_type": "stream",
     "text": [
      "Loss: 11.6054\n",
      "Shape of y_trues: (687, 8)\n",
      "Shape of y_scores: (687, 8)\n",
      "F1s: [0.73873874 0.84897959 0.83561644 0.91428571 0.91891892 0.56179775\n",
      " 0.69230769 0.44117647]\n",
      "Avg F1: 0.7440\n",
      "Training epoch 2:\n"
     ]
    },
    {
     "name": "stderr",
     "output_type": "stream",
     "text": [
      "100%|██████████| 688/688 [42:43<00:00,  3.73s/it]\n"
     ]
    },
    {
     "name": "stdout",
     "output_type": "stream",
     "text": [
      "Loss: 101.1988\n",
      "Validating...\n"
     ]
    },
    {
     "name": "stderr",
     "output_type": "stream",
     "text": [
      "100%|██████████| 86/86 [01:38<00:00,  1.15s/it]\n"
     ]
    },
    {
     "name": "stdout",
     "output_type": "stream",
     "text": [
      "Loss: 10.0815\n",
      "Shape of y_trues: (687, 8)\n",
      "Shape of y_scores: (687, 8)\n",
      "F1s: [0.75728155 0.90763052 0.90909091 0.94444444 0.93367347 0.6185567\n",
      " 0.72847682 0.65217391]\n",
      "Avg F1: 0.8064\n"
     ]
    }
   ],
   "source": [
    "#Train model, using train data: data/cpsc_processed, with only 08 classes:\n",
    "%run \"main.py\" --data-dir \"data/cpsc_processed\" --epochs 3 --num-workers 2 --batch-size 8 --num-classes 8"
   ]
  },
  {
   "cell_type": "code",
   "execution_count": 1,
   "metadata": {},
   "outputs": [
    {
     "name": "stdout",
     "output_type": "stream",
     "text": [
      "Training epoch 0:\n"
     ]
    },
    {
     "name": "stderr",
     "output_type": "stream",
     "text": [
      "100%|██████████| 2783/2783 [2:53:54<00:00,  3.75s/it]  \n"
     ]
    },
    {
     "name": "stdout",
     "output_type": "stream",
     "text": [
      "Loss: 437.7943\n",
      "Validating...\n"
     ]
    },
    {
     "name": "stderr",
     "output_type": "stream",
     "text": [
      "100%|██████████| 348/348 [06:37<00:00,  1.14s/it]\n"
     ]
    },
    {
     "name": "stdout",
     "output_type": "stream",
     "text": [
      "Loss: 217.6625\n",
      "Shape of y_trues: (2783, 8)\n",
      "Shape of y_scores: (2783, 8)\n",
      "F1s: [0.82325581 0.9137931  0.55688623 0.671875   0.81179138 0.39554318\n",
      " 0.17175573 0.16      ]\n",
      "Avg F1: 0.5631\n",
      "Training epoch 1:\n"
     ]
    },
    {
     "name": "stderr",
     "output_type": "stream",
     "text": [
      "100%|██████████| 2783/2783 [2:53:57<00:00,  3.75s/it]  \n"
     ]
    },
    {
     "name": "stdout",
     "output_type": "stream",
     "text": [
      "Loss: 279.9540\n",
      "Validating...\n"
     ]
    },
    {
     "name": "stderr",
     "output_type": "stream",
     "text": [
      "100%|██████████| 348/348 [06:38<00:00,  1.14s/it]\n"
     ]
    },
    {
     "name": "stdout",
     "output_type": "stream",
     "text": [
      "Loss: 228.7017\n",
      "Shape of y_trues: (2783, 8)\n",
      "Shape of y_scores: (2783, 8)\n",
      "F1s: [0.82325581 0.92665474 0.58552632 0.74074074 0.81715576 0.4345898\n",
      " 0.26966292 0.17777778]\n",
      "Avg F1: 0.5969\n",
      "Training epoch 2:\n"
     ]
    },
    {
     "name": "stderr",
     "output_type": "stream",
     "text": [
      "100%|██████████| 2783/2783 [2:53:45<00:00,  3.75s/it]  \n"
     ]
    },
    {
     "name": "stdout",
     "output_type": "stream",
     "text": [
      "Loss: 253.7682\n",
      "Validating...\n"
     ]
    },
    {
     "name": "stderr",
     "output_type": "stream",
     "text": [
      "100%|██████████| 348/348 [06:37<00:00,  1.14s/it]\n"
     ]
    },
    {
     "name": "stdout",
     "output_type": "stream",
     "text": [
      "Loss: 205.2386\n",
      "Shape of y_trues: (2783, 8)\n",
      "Shape of y_scores: (2783, 8)\n",
      "F1s: [0.82325581 0.90810811 0.57062147 0.77372263 0.81879195 0.43835616\n",
      " 0.27513228 0.25      ]\n",
      "Avg F1: 0.6072\n"
     ]
    }
   ],
   "source": [
    "#Train model, using train data: op_08_classes, with only 08 classes:\n",
    "%run \"main.py\" --data-dir \"data/op_08_classes/train_dataset\" --epochs 3 --num-workers 2 --batch-size 8 --num-classes 8"
   ]
  },
  {
   "cell_type": "code",
   "execution_count": 1,
   "metadata": {},
   "outputs": [
    {
     "name": "stdout",
     "output_type": "stream",
     "text": [
      "Training epoch 0:\n"
     ]
    },
    {
     "name": "stderr",
     "output_type": "stream",
     "text": [
      "100%|██████████| 2034/2034 [2:05:59<00:00,  3.72s/it]  \n"
     ]
    },
    {
     "name": "stdout",
     "output_type": "stream",
     "text": [
      "Loss: 249.7301\n",
      "Validating...\n"
     ]
    },
    {
     "name": "stderr",
     "output_type": "stream",
     "text": [
      "100%|██████████| 255/255 [04:48<00:00,  1.13s/it]\n"
     ]
    },
    {
     "name": "stdout",
     "output_type": "stream",
     "text": [
      "Loss: 25.8161\n",
      "Shape of y_trues: (2034, 9)\n",
      "Shape of y_scores: (2034, 9)\n",
      "F1s: [0.97414966 0.86925795 0.42168675 0.92592593 0.89719626 0.12280702\n",
      " 0.856      0.092827   0.00196464]\n",
      "Avg F1: 0.5735\n",
      "Training epoch 1:\n"
     ]
    },
    {
     "name": "stderr",
     "output_type": "stream",
     "text": [
      "100%|██████████| 2034/2034 [2:07:11<00:00,  3.75s/it]  \n"
     ]
    },
    {
     "name": "stdout",
     "output_type": "stream",
     "text": [
      "Loss: 158.4582\n",
      "Validating...\n"
     ]
    },
    {
     "name": "stderr",
     "output_type": "stream",
     "text": [
      "100%|██████████| 255/255 [04:50<00:00,  1.14s/it]\n"
     ]
    },
    {
     "name": "stdout",
     "output_type": "stream",
     "text": [
      "Loss: 23.7468\n",
      "Shape of y_trues: (2034, 9)\n",
      "Shape of y_scores: (2034, 9)\n",
      "F1s: [0.97600872 0.93150685 0.53271028 0.87619048 0.89719626 0.18543046\n",
      " 0.88163265 0.092827   0.00196464]\n",
      "Avg F1: 0.5973\n",
      "Training epoch 2:\n"
     ]
    },
    {
     "name": "stderr",
     "output_type": "stream",
     "text": [
      "100%|██████████| 2034/2034 [2:05:58<00:00,  3.72s/it]  \n"
     ]
    },
    {
     "name": "stdout",
     "output_type": "stream",
     "text": [
      "Loss: 142.6539\n",
      "Validating...\n"
     ]
    },
    {
     "name": "stderr",
     "output_type": "stream",
     "text": [
      "100%|██████████| 255/255 [04:48<00:00,  1.13s/it]\n"
     ]
    },
    {
     "name": "stdout",
     "output_type": "stream",
     "text": [
      "Loss: 22.8612\n",
      "Shape of y_trues: (2034, 9)\n",
      "Shape of y_scores: (2034, 9)\n",
      "F1s: [0.97472139 0.92517007 0.57333333 0.91891892 0.93457944 0.1971831\n",
      " 0.86530612 0.21374046 0.00196464]\n",
      "Avg F1: 0.6228\n"
     ]
    }
   ],
   "source": [
    "#Train model, using train data: op_09_classes, with only 09 classes:\n",
    "%run \"main.py\" --data-dir \"data/op_09_classes/train_dataset\" --epochs 3 --num-workers 2 --batch-size 8 --num-classes 9"
   ]
  }
 ],
 "metadata": {
  "kernelspec": {
   "display_name": "base",
   "language": "python",
   "name": "python3"
  },
  "language_info": {
   "codemirror_mode": {
    "name": "ipython",
    "version": 3
   },
   "file_extension": ".py",
   "mimetype": "text/x-python",
   "name": "python",
   "nbconvert_exporter": "python",
   "pygments_lexer": "ipython3",
   "version": "3.10.13"
  }
 },
 "nbformat": 4,
 "nbformat_minor": 2
}
