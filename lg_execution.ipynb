{
 "cells": [
  {
   "cell_type": "code",
   "execution_count": null,
   "metadata": {},
   "outputs": [],
   "source": [
    "# Used for: control data preprocessing and model training, testing, and evaluation\n",
    "# Dataset: data/cpsc_processed: \n",
    "\n",
    "# Dataset: data/op_09_classes/:\n",
    "# - training/evaluation:\n",
    "# - testing:\n",
    "\n",
    "# Dataset: data/op_08_classes (without PVC class in testing data)\n",
    "# - training/evaluation:\n",
    "# - testing:"
   ]
  },
  {
   "cell_type": "code",
   "execution_count": null,
   "metadata": {},
   "outputs": [],
   "source": [
    "import os"
   ]
  },
  {
   "cell_type": "code",
   "execution_count": null,
   "metadata": {},
   "outputs": [],
   "source": [
    "#prepare data for cpsc_processed:\n",
    "\n",
    "#perform preprocessing,baseline on data/cpsc_processed\n",
    "%run \"preprocess.py\" --data-dir \"data/cpsc_processed\" \n",
    "%run \"baselines.py\" --data-dir \"data/cpsc_processed\" --classifier 'all'"
   ]
  },
  {
   "cell_type": "code",
   "execution_count": null,
   "metadata": {},
   "outputs": [],
   "source": [
    "#prepare data for op_09_classes:\n",
    "\n",
    "#perform preprocessing,baseline on the data, op_9_classes\n",
    "%run \"preprocess.py\" --data-dir \"data/op_09_classes/train_dataset\" \n",
    "%run \"preprocess.py\" --data-dir \"data/op_09_classes/test_dataset\"\n",
    "\n",
    "#perform baseline training on the data, op_9_classes\n",
    "%run \"baselines.py\" --data-dir \"data/op_09_classes/train_dataset\" --classifier 'all'"
   ]
  },
  {
   "cell_type": "code",
   "execution_count": null,
   "metadata": {},
   "outputs": [],
   "source": [
    "#prepare data for op_08_classes:\n",
    "#reset csv files\n",
    "\n",
    "#path to training data and testing data\n",
    "train_data_dir = \"data/cpsc_processed\" \n",
    "test_data_dir = \"data/cpsc_processed\" \n",
    "\n",
    "#count existing .csv files in the training data and testing data\n",
    "\n",
    "#When in Windows\n",
    "# train_csv_files = [f for f in os.listdir(train_data_dir) if f.endswith('.csv')]\n",
    "# test_csv_files = [f for f in os.listdir(test_data_dir) if f.endswith('.csv')]\n",
    "# print(\"Number of .csv files in training data: \", len(train_csv_files))\n",
    "# print(\"Number of .csv files in testing data: \", len(test_csv_files))\n",
    "\n",
    "#When in Linux\n",
    "!ls $train_data_dir/*.csv | wc -l\n",
    "!ls $test_data_dir/*.csv | wc -l"
   ]
  },
  {
   "cell_type": "code",
   "execution_count": null,
   "metadata": {},
   "outputs": [],
   "source": [
    "#delete all existing .csv files in the training/testing data \n",
    "!rm -rf $train_data_dir/*.csv\n",
    "#delete all existing .csv files in the testing data\n",
    "!rm -rf $test_data_dir/*.csv\n"
   ]
  },
  {
   "cell_type": "code",
   "execution_count": null,
   "metadata": {},
   "outputs": [],
   "source": [
    "#prepare data for op_08_classes:\n",
    "\n",
    "#perform preprocessing,baseline on the data, op_08_classes\n",
    "%run \"preprocess.py\" --data-dir \"data/op_08_classes/train_dataset\" --num-classes 8\n",
    "%run \"preprocess.py\" --data-dir \"data/op_08_classes/test_dataset\" --num-classes 8\n",
    "\n",
    "#perform baseline training on the data, op_08_classes\n",
    "%run \"baselines.py\" --data-dir \"data/op_08_classes/train_dataset\" --classifier 'all' --num-classes 8"
   ]
  },
  {
   "cell_type": "code",
   "execution_count": null,
   "metadata": {},
   "outputs": [],
   "source": [
    "#prepare data for cpsc_processed FOR (8 classes):\n",
    "\n",
    "#perform preprocessing,baseline on the data, cpsc_processed\n",
    "%run \"preprocess.py\" --data-dir \"data/cpsc_processed\" --num-classes 8\n",
    "\n",
    "\n",
    "#perform baseline training on the data, cpsc_processed\n",
    "%run \"baselines.py\" --data-dir \"data/cpsc_processed\" --classifier 'all' --num-classes 8"
   ]
  },
  {
   "cell_type": "code",
   "execution_count": null,
   "metadata": {},
   "outputs": [],
   "source": [
    "#Train model, using train data: data/cpsc_processed, with full 09 classes:\n",
    "%run \"main.py\" --data-dir \"data/cpsc_processed\" --epochs 5 --num-workers 2 --batch-size 8 --num-classes 9\n"
   ]
  },
  {
   "cell_type": "code",
   "execution_count": 1,
   "metadata": {},
   "outputs": [
    {
     "name": "stdout",
     "output_type": "stream",
     "text": [
      "Training epoch 0:\n"
     ]
    },
    {
     "name": "stderr",
     "output_type": "stream",
     "text": [
      "100%|██████████| 688/688 [42:47<00:00,  3.73s/it]\n"
     ]
    },
    {
     "name": "stdout",
     "output_type": "stream",
     "text": [
      "Loss: 205.6300\n",
      "Validating...\n"
     ]
    },
    {
     "name": "stderr",
     "output_type": "stream",
     "text": [
      "100%|██████████| 86/86 [01:38<00:00,  1.15s/it]\n"
     ]
    },
    {
     "name": "stdout",
     "output_type": "stream",
     "text": [
      "Loss: 17.7493\n",
      "Shape of y_trues: (687, 8)\n",
      "Shape of y_scores: (687, 8)\n",
      "F1s: [0.65289256 0.65254237 0.4519774  0.87179487 0.8994709  0.42975207\n",
      " 0.52631579 0.3       ]\n",
      "Avg F1: 0.5981\n",
      "Training epoch 1:\n"
     ]
    },
    {
     "name": "stderr",
     "output_type": "stream",
     "text": [
      "100%|██████████| 688/688 [42:47<00:00,  3.73s/it]\n"
     ]
    },
    {
     "name": "stdout",
     "output_type": "stream",
     "text": [
      "Loss: 130.8232\n",
      "Validating...\n"
     ]
    },
    {
     "name": "stderr",
     "output_type": "stream",
     "text": [
      "100%|██████████| 86/86 [01:39<00:00,  1.15s/it]\n"
     ]
    },
    {
     "name": "stdout",
     "output_type": "stream",
     "text": [
      "Loss: 11.7415\n",
      "Shape of y_trues: (687, 8)\n",
      "Shape of y_scores: (687, 8)\n",
      "F1s: [0.74528302 0.87346939 0.86131387 0.94444444 0.91770574 0.6\n",
      " 0.69444444 0.60869565]\n",
      "Avg F1: 0.7807\n",
      "Training epoch 2:\n"
     ]
    },
    {
     "name": "stderr",
     "output_type": "stream",
     "text": [
      "100%|██████████| 688/688 [42:47<00:00,  3.73s/it]\n"
     ]
    },
    {
     "name": "stdout",
     "output_type": "stream",
     "text": [
      "Loss: 98.8437\n",
      "Validating...\n"
     ]
    },
    {
     "name": "stderr",
     "output_type": "stream",
     "text": [
      "100%|██████████| 86/86 [01:38<00:00,  1.15s/it]\n"
     ]
    },
    {
     "name": "stdout",
     "output_type": "stream",
     "text": [
      "Loss: 10.4029\n",
      "Shape of y_trues: (687, 8)\n",
      "Shape of y_scores: (687, 8)\n",
      "F1s: [0.79638009 0.91497976 0.89051095 0.94444444 0.92544987 0.67272727\n",
      " 0.72727273 0.59090909]\n",
      "Avg F1: 0.8078\n",
      "Training epoch 3:\n"
     ]
    },
    {
     "name": "stderr",
     "output_type": "stream",
     "text": [
      "100%|██████████| 688/688 [42:55<00:00,  3.74s/it]\n"
     ]
    },
    {
     "name": "stdout",
     "output_type": "stream",
     "text": [
      "Loss: 87.6005\n",
      "Validating...\n"
     ]
    },
    {
     "name": "stderr",
     "output_type": "stream",
     "text": [
      "100%|██████████| 86/86 [01:39<00:00,  1.15s/it]\n"
     ]
    },
    {
     "name": "stdout",
     "output_type": "stream",
     "text": [
      "Loss: 10.2368\n",
      "Shape of y_trues: (687, 8)\n",
      "Shape of y_scores: (687, 8)\n",
      "F1s: [0.78026906 0.9254902  0.90140845 0.94444444 0.921875   0.66055046\n",
      " 0.72151899 0.65454545]\n",
      "Avg F1: 0.8138\n",
      "Training epoch 4:\n"
     ]
    },
    {
     "name": "stderr",
     "output_type": "stream",
     "text": [
      "100%|██████████| 688/688 [42:46<00:00,  3.73s/it]\n"
     ]
    },
    {
     "name": "stdout",
     "output_type": "stream",
     "text": [
      "Loss: 79.0529\n",
      "Validating...\n"
     ]
    },
    {
     "name": "stderr",
     "output_type": "stream",
     "text": [
      "100%|██████████| 86/86 [01:38<00:00,  1.15s/it]\n"
     ]
    },
    {
     "name": "stdout",
     "output_type": "stream",
     "text": [
      "Loss: 9.7112\n",
      "Shape of y_trues: (687, 8)\n",
      "Shape of y_scores: (687, 8)\n",
      "F1s: [0.77625571 0.92913386 0.90647482 0.94444444 0.91836735 0.73584906\n",
      " 0.72727273 0.68085106]\n",
      "Avg F1: 0.8273\n"
     ]
    }
   ],
   "source": [
    "#Train model, using train data: data/cpsc_processed, with only 08 classes:\n",
    "%run \"main.py\" --data-dir \"data/cpsc_processed\" --epochs 5 --num-workers 2 --batch-size 8 --num-classes 8"
   ]
  },
  {
   "cell_type": "code",
   "execution_count": 2,
   "metadata": {},
   "outputs": [
    {
     "name": "stdout",
     "output_type": "stream",
     "text": [
      "Training epoch 0:\n"
     ]
    },
    {
     "name": "stderr",
     "output_type": "stream",
     "text": [
      "100%|██████████| 688/688 [42:48<00:00,  3.73s/it]\n"
     ]
    },
    {
     "name": "stdout",
     "output_type": "stream",
     "text": [
      "Loss: 203.1857\n",
      "Validating...\n"
     ]
    },
    {
     "name": "stderr",
     "output_type": "stream",
     "text": [
      "100%|██████████| 86/86 [01:38<00:00,  1.15s/it]\n"
     ]
    },
    {
     "name": "stdout",
     "output_type": "stream",
     "text": [
      "Loss: 20.6072\n",
      "Shape of y_trues: (687, 9)\n",
      "Shape of y_scores: (687, 9)\n",
      "F1s: [0.56573705 0.67114094 0.47560976 0.84848485 0.85970149 0.40641711\n",
      " 0.7751938  0.61538462 0.3125    ]\n",
      "Avg F1: 0.6145\n",
      "Training epoch 1:\n"
     ]
    },
    {
     "name": "stderr",
     "output_type": "stream",
     "text": [
      "100%|██████████| 688/688 [42:59<00:00,  3.75s/it]\n"
     ]
    },
    {
     "name": "stdout",
     "output_type": "stream",
     "text": [
      "Loss: 130.3574\n",
      "Validating...\n"
     ]
    },
    {
     "name": "stderr",
     "output_type": "stream",
     "text": [
      "100%|██████████| 86/86 [01:38<00:00,  1.15s/it]\n"
     ]
    },
    {
     "name": "stdout",
     "output_type": "stream",
     "text": [
      "Loss: 13.3610\n",
      "Shape of y_trues: (687, 9)\n",
      "Shape of y_scores: (687, 9)\n",
      "F1s: [0.69306931 0.87969925 0.83687943 0.84745763 0.89971347 0.5984252\n",
      " 0.784      0.71212121 0.51162791]\n",
      "Avg F1: 0.7514\n",
      "Training epoch 2:\n"
     ]
    },
    {
     "name": "stderr",
     "output_type": "stream",
     "text": [
      "100%|██████████| 688/688 [42:51<00:00,  3.74s/it]\n"
     ]
    },
    {
     "name": "stdout",
     "output_type": "stream",
     "text": [
      "Loss: 98.9167\n",
      "Validating...\n"
     ]
    },
    {
     "name": "stderr",
     "output_type": "stream",
     "text": [
      "100%|██████████| 86/86 [01:38<00:00,  1.15s/it]\n"
     ]
    },
    {
     "name": "stdout",
     "output_type": "stream",
     "text": [
      "Loss: 11.5648\n",
      "Shape of y_trues: (687, 9)\n",
      "Shape of y_scores: (687, 9)\n",
      "F1s: [0.7255814  0.92775665 0.8627451  0.85245902 0.90756303 0.62385321\n",
      " 0.79338843 0.74482759 0.52380952]\n",
      "Avg F1: 0.7736\n",
      "Training epoch 3:\n"
     ]
    },
    {
     "name": "stderr",
     "output_type": "stream",
     "text": [
      "100%|██████████| 688/688 [42:58<00:00,  3.75s/it]\n"
     ]
    },
    {
     "name": "stdout",
     "output_type": "stream",
     "text": [
      "Loss: 86.6012\n",
      "Validating...\n"
     ]
    },
    {
     "name": "stderr",
     "output_type": "stream",
     "text": [
      "100%|██████████| 86/86 [01:38<00:00,  1.15s/it]\n"
     ]
    },
    {
     "name": "stdout",
     "output_type": "stream",
     "text": [
      "Loss: 10.8833\n",
      "Shape of y_trues: (687, 9)\n",
      "Shape of y_scores: (687, 9)\n",
      "F1s: [0.73170732 0.95057034 0.85714286 0.85714286 0.91690544 0.609375\n",
      " 0.8125     0.76923077 0.52380952]\n",
      "Avg F1: 0.7809\n",
      "Training epoch 4:\n"
     ]
    },
    {
     "name": "stderr",
     "output_type": "stream",
     "text": [
      "100%|██████████| 688/688 [42:51<00:00,  3.74s/it]\n"
     ]
    },
    {
     "name": "stdout",
     "output_type": "stream",
     "text": [
      "Loss: 78.1961\n",
      "Validating...\n"
     ]
    },
    {
     "name": "stderr",
     "output_type": "stream",
     "text": [
      "100%|██████████| 86/86 [01:38<00:00,  1.15s/it]\n"
     ]
    },
    {
     "name": "stdout",
     "output_type": "stream",
     "text": [
      "Loss: 10.6840\n",
      "Shape of y_trues: (687, 9)\n",
      "Shape of y_scores: (687, 9)\n",
      "F1s: [0.73809524 0.953125   0.87417219 0.85714286 0.90909091 0.66666667\n",
      " 0.80991736 0.77272727 0.53061224]\n",
      "Avg F1: 0.7902\n"
     ]
    }
   ],
   "source": [
    "#Train model, using train data: data/cpsc_processed, with full 09 classes:\n",
    "%run \"main.py\" --data-dir \"data/cpsc_processed\" --epochs 5 --num-workers 2 --batch-size 8 --num-classes 9"
   ]
  },
  {
   "cell_type": "code",
   "execution_count": 1,
   "metadata": {},
   "outputs": [
    {
     "name": "stdout",
     "output_type": "stream",
     "text": [
      "Training epoch 0:\n"
     ]
    },
    {
     "name": "stderr",
     "output_type": "stream",
     "text": [
      "100%|██████████| 2783/2783 [2:53:55<00:00,  3.75s/it]  \n"
     ]
    },
    {
     "name": "stdout",
     "output_type": "stream",
     "text": [
      "Loss: 425.8909\n",
      "Validating...\n"
     ]
    },
    {
     "name": "stderr",
     "output_type": "stream",
     "text": [
      "100%|██████████| 348/348 [06:37<00:00,  1.14s/it]\n"
     ]
    },
    {
     "name": "stdout",
     "output_type": "stream",
     "text": [
      "Loss: 208.6356\n",
      "Shape of y_trues: (2783, 8)\n",
      "Shape of y_scores: (2783, 8)\n",
      "F1s: [0.82325581 0.89354839 0.57615894 0.67768595 0.81293303 0.41309824\n",
      " 0.22368421 0.22857143]\n",
      "Avg F1: 0.5811\n",
      "Training epoch 1:\n"
     ]
    },
    {
     "name": "stderr",
     "output_type": "stream",
     "text": [
      "100%|██████████| 2783/2783 [2:55:02<00:00,  3.77s/it]  \n"
     ]
    },
    {
     "name": "stdout",
     "output_type": "stream",
     "text": [
      "Loss: 282.3834\n",
      "Validating...\n"
     ]
    },
    {
     "name": "stderr",
     "output_type": "stream",
     "text": [
      "100%|██████████| 348/348 [06:38<00:00,  1.14s/it]\n"
     ]
    },
    {
     "name": "stdout",
     "output_type": "stream",
     "text": [
      "Loss: 217.1982\n",
      "Shape of y_trues: (2783, 8)\n",
      "Shape of y_scores: (2783, 8)\n",
      "F1s: [0.82325581 0.91836735 0.6130031  0.72857143 0.81585082 0.4345679\n",
      " 0.21808511 0.18604651]\n",
      "Avg F1: 0.5922\n",
      "Training epoch 2:\n"
     ]
    },
    {
     "name": "stderr",
     "output_type": "stream",
     "text": [
      "100%|██████████| 2783/2783 [2:53:50<00:00,  3.75s/it]  \n"
     ]
    },
    {
     "name": "stdout",
     "output_type": "stream",
     "text": [
      "Loss: 255.7893\n",
      "Validating...\n"
     ]
    },
    {
     "name": "stderr",
     "output_type": "stream",
     "text": [
      "100%|██████████| 348/348 [06:37<00:00,  1.14s/it]\n"
     ]
    },
    {
     "name": "stdout",
     "output_type": "stream",
     "text": [
      "Loss: 233.8361\n",
      "Shape of y_trues: (2783, 8)\n",
      "Shape of y_scores: (2783, 8)\n",
      "F1s: [0.82325581 0.9375     0.6        0.71641791 0.81858407 0.44444444\n",
      " 0.21030043 0.25      ]\n",
      "Avg F1: 0.6001\n",
      "Training epoch 3:\n"
     ]
    },
    {
     "name": "stderr",
     "output_type": "stream",
     "text": [
      " 93%|█████████▎| 2591/2783 [2:41:34<11:56,  3.73s/it]  "
     ]
    }
   ],
   "source": [
    "#Train model, using train data: op_08_classes, with only 08 classes:\n",
    "%run \"main.py\" --data-dir \"data/op_08_classes/train_dataset\" --epochs 5 --num-workers 2 --batch-size 8 --num-classes 8"
   ]
  },
  {
   "cell_type": "code",
   "execution_count": null,
   "metadata": {},
   "outputs": [],
   "source": [
    "#Train model, using train data: op_08_classes, with only 08 classes:\n",
    "# %run \"main.py\" --data-dir \"data/op_08_classes/train_dataset\" --epochs 5 --num-workers 2 --batch-size 8 --num-classes 8 \n",
    "%run \"main.py\" --data-dir \"data/op_08_classes/train_dataset\" --epochs 5 --num-workers 2 --batch-size 8 --num-classes 8 "
   ]
  },
  {
   "cell_type": "code",
   "execution_count": null,
   "metadata": {},
   "outputs": [],
   "source": [
    "#Train model, using train data: op_09_classes, with only 09 classes:\n",
    "%run \"main.py\" --data-dir \"data/op_09_classes/train_dataset\" --epochs 5 --num-workers 2 --batch-size 8 --num-classes 9"
   ]
  },
  {
   "cell_type": "code",
   "execution_count": 5,
   "metadata": {},
   "outputs": [
    {
     "data": {
      "text/plain": [
       "'14:46:29'"
      ]
     },
     "metadata": {},
     "output_type": "display_data"
    }
   ],
   "source": [
    "import time\n",
    "from IPython.display import display, clear_output\n",
    "\n",
    "while True:\n",
    "    # Get the current time\n",
    "    current_time = time.strftime(\"%H:%M:%S\")\n",
    "    \n",
    "    # Clear the previous output\n",
    "    clear_output(wait=True)\n",
    "    \n",
    "    # Display the current time\n",
    "    display(current_time)\n",
    "    \n",
    "    # Wait for 10 seconds\n",
    "    time.sleep(10)\n"
   ]
  }
 ],
 "metadata": {
  "kernelspec": {
   "display_name": "base",
   "language": "python",
   "name": "python3"
  },
  "language_info": {
   "codemirror_mode": {
    "name": "ipython",
    "version": 3
   },
   "file_extension": ".py",
   "mimetype": "text/x-python",
   "name": "python",
   "nbconvert_exporter": "python",
   "pygments_lexer": "ipython3",
   "version": "3.10.13"
  }
 },
 "nbformat": 4,
 "nbformat_minor": 2
}
