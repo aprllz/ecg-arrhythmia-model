{
 "cells": [
  {
   "cell_type": "code",
   "execution_count": 40,
   "metadata": {},
   "outputs": [],
   "source": [
    "import argparse\n",
    "import os\n",
    "import torch\n",
    "import torch.nn as nn\n",
    "from torch.utils.data import DataLoader\n",
    "from tqdm import tqdm\n",
    "import numpy as np\n",
    "\n",
    "from dataset import ECGDataset\n",
    "from resnet import resnet34, resnet50\n",
    "from utils import cal_f1s, cal_aucs, split_data"
   ]
  },
  {
   "cell_type": "code",
   "execution_count": 41,
   "metadata": {},
   "outputs": [],
   "source": [
    "\n",
    "data_dir = 'data\\ptb-xl'\n",
    "database = os.path.basename(data_dir)\n"
   ]
  },
  {
   "cell_type": "code",
   "execution_count": 42,
   "metadata": {},
   "outputs": [
    {
     "name": "stdout",
     "output_type": "stream",
     "text": [
      "torch.Size([16, 12, 15000])\n",
      "torch.Size([16, 37])\n",
      "torch.Size([16, 9])\n",
      "torch.Size([16, 37])\n"
     ]
    }
   ],
   "source": [
    "model_path = 'models\\resnet50_ptb-xl_all_42.pth'\n",
    "device = 'cpu'\n",
    "\n",
    "\n",
    "leads = 'all'\n",
    "nleads = 12\n",
    "\n",
    "label_csv = os.path.join(data_dir, 'labels.csv') #Modified. Long. 23.Mar.24, original: os.path.join(data_dir, 'labelx.csv')\n",
    "\n",
    "train_folds, val_folds, test_folds = split_data(seed=42)\n",
    "train_dataset = ECGDataset('train', data_dir, label_csv, train_folds, leads)\n",
    "train_loader = DataLoader(train_dataset, batch_size=16, shuffle=True, num_workers=4, pin_memory=True)\n",
    "#shape train_loader data\n",
    "for data in train_loader:\n",
    "    inputs, targets = data\n",
    "    print(inputs.shape)\n",
    "    print(targets.shape)\n",
    "    break\n",
    "\n",
    "val_dataset = ECGDataset('val', data_dir, label_csv, val_folds, leads)\n",
    "val_loader = DataLoader(val_dataset, batch_size=16, shuffle=False, num_workers=4, pin_memory=True)\n",
    "test_dataset = ECGDataset('test', data_dir, label_csv, test_folds, leads)\n",
    "test_loader = DataLoader(test_dataset, batch_size=16, shuffle=False, num_workers=4, pin_memory=True)\n",
    "net = resnet34(input_channels=nleads).to(device) #Modified. Long. 23.Mar.24, original: resnet50\n",
    "optimizer = torch.optim.Adam(net.parameters(), lr=0.0001)\n",
    "scheduler = torch.optim.lr_scheduler.StepLR(optimizer, 10, gamma=0.1)\n",
    "\n",
    "criterion = nn.BCEWithLogitsLoss()\n",
    "\n",
    "#print net output shape\n",
    "for data in train_loader:\n",
    "    inputs, targets = data\n",
    "    outputs = net(inputs.to(device))\n",
    "    print(outputs.shape)\n",
    "    print(targets.shape)\n",
    "    break\n",
    "    \n"
   ]
  },
  {
   "cell_type": "code",
   "execution_count": 36,
   "metadata": {},
   "outputs": [],
   "source": [
    "def train(dataloader, net, args, criterion, epoch, scheduler, optimizer, device):\n",
    "    print('Training epoch %d:' % epoch)\n",
    "    net.train()\n",
    "    running_loss = 0\n",
    "    output_list, labels_list = [], []\n",
    "    for _, (data, labels) in enumerate(tqdm(dataloader)):\n",
    "        data, labels = data.to(device), labels.to(device)\n",
    "        output = net(data)\n",
    "        # print(output)\n",
    "        # print(labels)\n",
    "        # print(criterion(output, labels))\n",
    "        print(data.shape)\n",
    "        print(output.shape)\n",
    "        print(labels.shape)\n",
    "        loss = criterion(output, labels)\n",
    "        optimizer.zero_grad()\n",
    "        loss.backward()\n",
    "        optimizer.step()\n",
    "        running_loss += loss.item()\n",
    "        output_list.append(output.data.cpu().numpy())\n",
    "        labels_list.append(labels.data.cpu().numpy())\n",
    "    # scheduler.step()\n",
    "    print('Loss: %.4f' % running_loss)\n",
    "    \n",
    "\n",
    "def evaluate(dataloader, net, args, criterion, device):\n",
    "    best_metric = 0\n",
    "    print('Validating...')\n",
    "    net.eval()\n",
    "    running_loss = 0\n",
    "    output_list, labels_list = [], []\n",
    "    for _, (data, labels) in enumerate(tqdm(dataloader)):\n",
    "        data, labels = data.to(device), labels.to(device)\n",
    "        output = net(data)\n",
    "        # print(output)\n",
    "        # print(labels)\n",
    "        # print(criterion(output, labels))\n",
    "        print(output.shape)\n",
    "        print(labels.shape)\n",
    "        loss = criterion(output, labels)\n",
    "        running_loss += loss.item()\n",
    "        output = torch.sigmoid(output)\n",
    "        output_list.append(output.data.cpu().numpy())\n",
    "        labels_list.append(labels.data.cpu().numpy())\n",
    "    print('Loss: %.4f' % running_loss)\n",
    "    y_trues = np.vstack(labels_list)\n",
    "    y_scores = np.vstack(output_list)\n",
    "    f1s = cal_f1s(y_trues, y_scores)\n",
    "    avg_f1 = np.mean(f1s)\n",
    "    print('F1s:', f1s)\n",
    "    print('Avg F1: %.4f' % avg_f1)\n",
    "    if avg_f1 > best_metric:\n",
    "        best_metric = avg_f1\n",
    "        # torch.save(net.state_dict(), args.model_path)\n",
    "    else:\n",
    "        aucs = cal_aucs(y_trues, y_scores)\n",
    "        avg_auc = np.mean(aucs)\n",
    "        print('AUCs:', aucs)\n",
    "        print('Avg AUC: %.4f' % avg_auc)"
   ]
  },
  {
   "cell_type": "code",
   "execution_count": 37,
   "metadata": {},
   "outputs": [
    {
     "name": "stdout",
     "output_type": "stream",
     "text": [
      "Training epoch 0:\n"
     ]
    },
    {
     "name": "stderr",
     "output_type": "stream",
     "text": [
      "  0%|          | 0/11 [00:00<?, ?it/s]"
     ]
    },
    {
     "name": "stdout",
     "output_type": "stream",
     "text": [
      "torch.Size([16, 12, 15000])\n",
      "torch.Size([16, 9])\n",
      "torch.Size([16, 37])\n"
     ]
    },
    {
     "name": "stderr",
     "output_type": "stream",
     "text": [
      "  0%|          | 0/11 [00:06<?, ?it/s]\n"
     ]
    },
    {
     "ename": "ValueError",
     "evalue": "Target size (torch.Size([16, 37])) must be the same as input size (torch.Size([16, 9]))",
     "output_type": "error",
     "traceback": [
      "\u001b[1;31m---------------------------------------------------------------------------\u001b[0m",
      "\u001b[1;31mValueError\u001b[0m                                Traceback (most recent call last)",
      "\u001b[1;32md:\\OneDrive\\5. My University\\Finland - Tampere\\04. Research Work\\Arrhythmia-Prediction-2024\\ecg-arrhythmia-model\\main-test.ipynb Cell 5\u001b[0m line \u001b[0;36m5\n\u001b[0;32m      <a href='vscode-notebook-cell:/d%3A/OneDrive/5.%20My%20University/Finland%20-%20Tampere/04.%20Research%20Work/Arrhythmia-Prediction-2024/ecg-arrhythmia-model/main-test.ipynb#W5sZmlsZQ%3D%3D?line=0'>1</a>\u001b[0m \u001b[39m#train phase\u001b[39;00m\n\u001b[0;32m      <a href='vscode-notebook-cell:/d%3A/OneDrive/5.%20My%20University/Finland%20-%20Tampere/04.%20Research%20Work/Arrhythmia-Prediction-2024/ecg-arrhythmia-model/main-test.ipynb#W5sZmlsZQ%3D%3D?line=1'>2</a>\u001b[0m \n\u001b[0;32m      <a href='vscode-notebook-cell:/d%3A/OneDrive/5.%20My%20University/Finland%20-%20Tampere/04.%20Research%20Work/Arrhythmia-Prediction-2024/ecg-arrhythmia-model/main-test.ipynb#W5sZmlsZQ%3D%3D?line=2'>3</a>\u001b[0m \u001b[39m# net.load_state_dict(torch.load(model_path, map_location=device))\u001b[39;00m\n\u001b[0;32m      <a href='vscode-notebook-cell:/d%3A/OneDrive/5.%20My%20University/Finland%20-%20Tampere/04.%20Research%20Work/Arrhythmia-Prediction-2024/ecg-arrhythmia-model/main-test.ipynb#W5sZmlsZQ%3D%3D?line=3'>4</a>\u001b[0m \u001b[39mfor\u001b[39;00m epoch \u001b[39min\u001b[39;00m \u001b[39mrange\u001b[39m(\u001b[39m2\u001b[39m):\n\u001b[1;32m----> <a href='vscode-notebook-cell:/d%3A/OneDrive/5.%20My%20University/Finland%20-%20Tampere/04.%20Research%20Work/Arrhythmia-Prediction-2024/ecg-arrhythmia-model/main-test.ipynb#W5sZmlsZQ%3D%3D?line=4'>5</a>\u001b[0m     train(train_loader, net, \u001b[39m'\u001b[39;49m\u001b[39m'\u001b[39;49m, criterion, epoch, scheduler, optimizer, device)\n\u001b[0;32m      <a href='vscode-notebook-cell:/d%3A/OneDrive/5.%20My%20University/Finland%20-%20Tampere/04.%20Research%20Work/Arrhythmia-Prediction-2024/ecg-arrhythmia-model/main-test.ipynb#W5sZmlsZQ%3D%3D?line=5'>6</a>\u001b[0m     evaluate(val_loader, net, \u001b[39m'\u001b[39m\u001b[39m'\u001b[39m, criterion, device)\n",
      "\u001b[1;32md:\\OneDrive\\5. My University\\Finland - Tampere\\04. Research Work\\Arrhythmia-Prediction-2024\\ecg-arrhythmia-model\\main-test.ipynb Cell 5\u001b[0m line \u001b[0;36m1\n\u001b[0;32m     <a href='vscode-notebook-cell:/d%3A/OneDrive/5.%20My%20University/Finland%20-%20Tampere/04.%20Research%20Work/Arrhythmia-Prediction-2024/ecg-arrhythmia-model/main-test.ipynb#W5sZmlsZQ%3D%3D?line=12'>13</a>\u001b[0m \u001b[39mprint\u001b[39m(output\u001b[39m.\u001b[39mshape)\n\u001b[0;32m     <a href='vscode-notebook-cell:/d%3A/OneDrive/5.%20My%20University/Finland%20-%20Tampere/04.%20Research%20Work/Arrhythmia-Prediction-2024/ecg-arrhythmia-model/main-test.ipynb#W5sZmlsZQ%3D%3D?line=13'>14</a>\u001b[0m \u001b[39mprint\u001b[39m(labels\u001b[39m.\u001b[39mshape)\n\u001b[1;32m---> <a href='vscode-notebook-cell:/d%3A/OneDrive/5.%20My%20University/Finland%20-%20Tampere/04.%20Research%20Work/Arrhythmia-Prediction-2024/ecg-arrhythmia-model/main-test.ipynb#W5sZmlsZQ%3D%3D?line=14'>15</a>\u001b[0m loss \u001b[39m=\u001b[39m criterion(output, labels)\n\u001b[0;32m     <a href='vscode-notebook-cell:/d%3A/OneDrive/5.%20My%20University/Finland%20-%20Tampere/04.%20Research%20Work/Arrhythmia-Prediction-2024/ecg-arrhythmia-model/main-test.ipynb#W5sZmlsZQ%3D%3D?line=15'>16</a>\u001b[0m optimizer\u001b[39m.\u001b[39mzero_grad()\n\u001b[0;32m     <a href='vscode-notebook-cell:/d%3A/OneDrive/5.%20My%20University/Finland%20-%20Tampere/04.%20Research%20Work/Arrhythmia-Prediction-2024/ecg-arrhythmia-model/main-test.ipynb#W5sZmlsZQ%3D%3D?line=16'>17</a>\u001b[0m loss\u001b[39m.\u001b[39mbackward()\n",
      "File \u001b[1;32mc:\\Users\\longd\\Anaconda\\miniconda3\\Lib\\site-packages\\torch\\nn\\modules\\module.py:1511\u001b[0m, in \u001b[0;36mModule._wrapped_call_impl\u001b[1;34m(self, *args, **kwargs)\u001b[0m\n\u001b[0;32m   1509\u001b[0m     \u001b[39mreturn\u001b[39;00m \u001b[39mself\u001b[39m\u001b[39m.\u001b[39m_compiled_call_impl(\u001b[39m*\u001b[39margs, \u001b[39m*\u001b[39m\u001b[39m*\u001b[39mkwargs)  \u001b[39m# type: ignore[misc]\u001b[39;00m\n\u001b[0;32m   1510\u001b[0m \u001b[39melse\u001b[39;00m:\n\u001b[1;32m-> 1511\u001b[0m     \u001b[39mreturn\u001b[39;00m \u001b[39mself\u001b[39;49m\u001b[39m.\u001b[39;49m_call_impl(\u001b[39m*\u001b[39;49margs, \u001b[39m*\u001b[39;49m\u001b[39m*\u001b[39;49mkwargs)\n",
      "File \u001b[1;32mc:\\Users\\longd\\Anaconda\\miniconda3\\Lib\\site-packages\\torch\\nn\\modules\\module.py:1520\u001b[0m, in \u001b[0;36mModule._call_impl\u001b[1;34m(self, *args, **kwargs)\u001b[0m\n\u001b[0;32m   1515\u001b[0m \u001b[39m# If we don't have any hooks, we want to skip the rest of the logic in\u001b[39;00m\n\u001b[0;32m   1516\u001b[0m \u001b[39m# this function, and just call forward.\u001b[39;00m\n\u001b[0;32m   1517\u001b[0m \u001b[39mif\u001b[39;00m \u001b[39mnot\u001b[39;00m (\u001b[39mself\u001b[39m\u001b[39m.\u001b[39m_backward_hooks \u001b[39mor\u001b[39;00m \u001b[39mself\u001b[39m\u001b[39m.\u001b[39m_backward_pre_hooks \u001b[39mor\u001b[39;00m \u001b[39mself\u001b[39m\u001b[39m.\u001b[39m_forward_hooks \u001b[39mor\u001b[39;00m \u001b[39mself\u001b[39m\u001b[39m.\u001b[39m_forward_pre_hooks\n\u001b[0;32m   1518\u001b[0m         \u001b[39mor\u001b[39;00m _global_backward_pre_hooks \u001b[39mor\u001b[39;00m _global_backward_hooks\n\u001b[0;32m   1519\u001b[0m         \u001b[39mor\u001b[39;00m _global_forward_hooks \u001b[39mor\u001b[39;00m _global_forward_pre_hooks):\n\u001b[1;32m-> 1520\u001b[0m     \u001b[39mreturn\u001b[39;00m forward_call(\u001b[39m*\u001b[39;49margs, \u001b[39m*\u001b[39;49m\u001b[39m*\u001b[39;49mkwargs)\n\u001b[0;32m   1522\u001b[0m \u001b[39mtry\u001b[39;00m:\n\u001b[0;32m   1523\u001b[0m     result \u001b[39m=\u001b[39m \u001b[39mNone\u001b[39;00m\n",
      "File \u001b[1;32mc:\\Users\\longd\\Anaconda\\miniconda3\\Lib\\site-packages\\torch\\nn\\modules\\loss.py:725\u001b[0m, in \u001b[0;36mBCEWithLogitsLoss.forward\u001b[1;34m(self, input, target)\u001b[0m\n\u001b[0;32m    724\u001b[0m \u001b[39mdef\u001b[39;00m \u001b[39mforward\u001b[39m(\u001b[39mself\u001b[39m, \u001b[39minput\u001b[39m: Tensor, target: Tensor) \u001b[39m-\u001b[39m\u001b[39m>\u001b[39m Tensor:\n\u001b[1;32m--> 725\u001b[0m     \u001b[39mreturn\u001b[39;00m F\u001b[39m.\u001b[39;49mbinary_cross_entropy_with_logits(\u001b[39minput\u001b[39;49m, target,\n\u001b[0;32m    726\u001b[0m                                               \u001b[39mself\u001b[39;49m\u001b[39m.\u001b[39;49mweight,\n\u001b[0;32m    727\u001b[0m                                               pos_weight\u001b[39m=\u001b[39;49m\u001b[39mself\u001b[39;49m\u001b[39m.\u001b[39;49mpos_weight,\n\u001b[0;32m    728\u001b[0m                                               reduction\u001b[39m=\u001b[39;49m\u001b[39mself\u001b[39;49m\u001b[39m.\u001b[39;49mreduction)\n",
      "File \u001b[1;32mc:\\Users\\longd\\Anaconda\\miniconda3\\Lib\\site-packages\\torch\\nn\\functional.py:3197\u001b[0m, in \u001b[0;36mbinary_cross_entropy_with_logits\u001b[1;34m(input, target, weight, size_average, reduce, reduction, pos_weight)\u001b[0m\n\u001b[0;32m   3194\u001b[0m     reduction_enum \u001b[39m=\u001b[39m _Reduction\u001b[39m.\u001b[39mget_enum(reduction)\n\u001b[0;32m   3196\u001b[0m \u001b[39mif\u001b[39;00m \u001b[39mnot\u001b[39;00m (target\u001b[39m.\u001b[39msize() \u001b[39m==\u001b[39m \u001b[39minput\u001b[39m\u001b[39m.\u001b[39msize()):\n\u001b[1;32m-> 3197\u001b[0m     \u001b[39mraise\u001b[39;00m \u001b[39mValueError\u001b[39;00m(\u001b[39mf\u001b[39m\u001b[39m\"\u001b[39m\u001b[39mTarget size (\u001b[39m\u001b[39m{\u001b[39;00mtarget\u001b[39m.\u001b[39msize()\u001b[39m}\u001b[39;00m\u001b[39m) must be the same as input size (\u001b[39m\u001b[39m{\u001b[39;00m\u001b[39minput\u001b[39m\u001b[39m.\u001b[39msize()\u001b[39m}\u001b[39;00m\u001b[39m)\u001b[39m\u001b[39m\"\u001b[39m)\n\u001b[0;32m   3199\u001b[0m \u001b[39mreturn\u001b[39;00m torch\u001b[39m.\u001b[39mbinary_cross_entropy_with_logits(\u001b[39minput\u001b[39m, target, weight, pos_weight, reduction_enum)\n",
      "\u001b[1;31mValueError\u001b[0m: Target size (torch.Size([16, 37])) must be the same as input size (torch.Size([16, 9]))"
     ]
    }
   ],
   "source": [
    "#train phase\n",
    "\n",
    "# net.load_state_dict(torch.load(model_path, map_location=device))\n",
    "for epoch in range(2):\n",
    "    train(train_loader, net, '', criterion, epoch, scheduler, optimizer, device)\n",
    "    evaluate(val_loader, net, '', criterion, device)\n"
   ]
  }
 ],
 "metadata": {
  "kernelspec": {
   "display_name": "base",
   "language": "python",
   "name": "python3"
  },
  "language_info": {
   "codemirror_mode": {
    "name": "ipython",
    "version": 3
   },
   "file_extension": ".py",
   "mimetype": "text/x-python",
   "name": "python",
   "nbconvert_exporter": "python",
   "pygments_lexer": "ipython3",
   "version": "3.11.5"
  }
 },
 "nbformat": 4,
 "nbformat_minor": 2
}
