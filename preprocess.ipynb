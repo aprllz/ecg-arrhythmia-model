{
 "cells": [
  {
   "cell_type": "code",
   "execution_count": 107,
   "metadata": {},
   "outputs": [],
   "source": [
    "import wfdb\n",
    "import numpy as np\n",
    "import pandas as pd\n",
    "\n",
    "from glob import glob\n",
    "import argparse\n",
    "import os\n",
    "\n",
    "data_dir = 'data\\CPSC_2018\\main-data'\n",
    "reference_csv = os.path.join(data_dir, 'reference.csv')\n",
    "label_csv = os.path.join(data_dir, 'labels.csv')"
   ]
  },
  {
   "cell_type": "code",
   "execution_count": 108,
   "metadata": {},
   "outputs": [
    {
     "name": "stdout",
     "output_type": "stream",
     "text": [
      "\\\n"
     ]
    }
   ],
   "source": [
    "#handle split_path in Windows or Linux\n",
    "split_type = os.path.sep\n",
    "print(split_type)\n",
    "#1. change split type to '/' (Windows)\n",
    "\n",
    "def gen_reference_csv(data_dir, reference_csv):\n",
    "    if not os.path.exists(reference_csv):\n",
    "        recordpaths = glob(os.path.join(data_dir, '*.hea'))\n",
    "        results = []\n",
    "        for recordpath in recordpaths:\n",
    "            patient_id = recordpath.split(split_type)[-1][:-4]\n",
    "            # print(patient_id)\n",
    "            # print(recordpath)\n",
    "            # print(recordpath[:-4])\n",
    "            _, meta_data = wfdb.rdsamp(recordpath[:-4])\n",
    "            sample_rate = meta_data['fs']\n",
    "            signal_len = meta_data['sig_len']\n",
    "            age = meta_data['comments'][0]\n",
    "            sex = meta_data['comments'][1]\n",
    "            dx = meta_data['comments'][2]\n",
    "            age = age[5:] if age.startswith('Age: ') else np.NaN\n",
    "            sex = sex[5:] if sex.startswith('Sex: ') else 'Unknown'\n",
    "            dx = dx[4:] if dx.startswith('Dx: ') else ''\n",
    "            print(age,sex,dx)\n",
    "            results.append([patient_id, sample_rate, signal_len, age, sex, dx])\n",
    "        df = pd.DataFrame(data=results, columns=['patient_id', 'sample_rate', 'signal_len', 'age', 'sex', 'dx'])\n",
    "        df.sort_values('patient_id').to_csv(reference_csv, index=None)\n",
    "\n",
    "\n"
   ]
  },
  {
   "cell_type": "code",
   "execution_count": 109,
   "metadata": {},
   "outputs": [],
   "source": [
    "def gen_label_csv(label_csv, reference_csv, dx_dict, classes):\n",
    "    if not os.path.exists(label_csv):\n",
    "        results = []\n",
    "        df_reference = pd.read_csv(reference_csv)\n",
    "        for _, row in df_reference.iterrows():\n",
    "            patient_id = row['patient_id']\n",
    "            dxs = [dx_dict.get(code, '') for code in row['dx'].split(',')]\n",
    "            labels = [0] * 9\n",
    "            for idx, label in enumerate(classes):\n",
    "                if label in dxs:\n",
    "                    labels[idx] = 1\n",
    "            results.append([patient_id] + labels)\n",
    "        df = pd.DataFrame(data=results, columns=['patient_id'] + classes)\n",
    "        n = len(df)\n",
    "        folds = np.zeros(n, dtype=np.int8)\n",
    "        for i in range(10):\n",
    "            start = int(n * i / 10)\n",
    "            end = int(n * (i + 1) / 10)\n",
    "            folds[start:end] = i + 1\n",
    "        df['fold'] = np.random.permutation(folds)\n",
    "        columns = df.columns\n",
    "        df['keep'] = df[classes].sum(axis=1)\n",
    "        df = df[df['keep'] > 0]\n",
    "        df[columns].to_csv(label_csv, index=None)"
   ]
  },
  {
   "cell_type": "code",
   "execution_count": 110,
   "metadata": {},
   "outputs": [],
   "source": [
    "# if __name__ == \"__main__\":\n",
    "leads = ['I', 'II', 'III', 'aVR', 'aVL', 'aVF', 'V1', 'V2', 'V3', 'V4', 'V5', 'V6']\n",
    "dx_dict = {\n",
    "    '426783006': 'SNR', # Normal sinus rhythm\n",
    "    '164889003': 'AF', # Atrial fibrillation\n",
    "    '270492004': 'IAVB', # First-degree atrioventricular block\n",
    "    '164909002': 'LBBB', # Left bundle branch block\n",
    "    '713427006': 'RBBB', # Complete right bundle branch block\n",
    "    '59118001': 'RBBB', # Right bundle branch block\n",
    "    '284470004': 'PAC', # Premature atrial contraction\n",
    "    '63593006': 'PAC', # Supraventricular premature beats\n",
    "    '164884008': 'PVC', # Ventricular ectopics\n",
    "    '429622005': 'STD', # ST-segment depression\n",
    "    '164931005': 'STE', # ST-segment elevation\n",
    "}\n",
    "classes = ['SNR', 'AF', 'IAVB', 'LBBB', 'RBBB', 'PAC', 'PVC', 'STD', 'STE']\n",
    "# parser = argparse.ArgumentParser()\n",
    "# parser.add_argument('--data-dir', type=str, default='data/CPSC', help='Directory to dataset')\n",
    "# args = parser.parse_args()\n",
    "\n"
   ]
  },
  {
   "cell_type": "code",
   "execution_count": 112,
   "metadata": {},
   "outputs": [
    {
     "name": "stdout",
     "output_type": "stream",
     "text": [
      "74 Male 59118001\n",
      "49 Female 426783006\n",
      "81 Female 164889003\n",
      "45 Male 164889003\n",
      "53 Male 164884008\n",
      "29 Male 59118001\n",
      "74 Male 164889003\n",
      "80 Female 429622005\n",
      "81 Male 164889003\n",
      "82 Male 59118001\n",
      "87 Male 164909002\n",
      "74 Male 164884008\n",
      "57 Female 429622005\n",
      "76 Female 429622005\n",
      "41 Female 59118001\n",
      "14 Female 426783006\n",
      "60 Female 164889003\n",
      "92 Female 164909002\n",
      "74 Female 164889003\n",
      "27 Female 426783006\n",
      "64 Male 164931005\n",
      "27 Female 59118001\n",
      "67 Female 164889003\n",
      "64 Female 164884008\n",
      "74 Female 164884008\n",
      "74 Male 164889003\n",
      "55 Female 59118001\n",
      "58 Female 59118001\n",
      "35 Female 426783006\n",
      "46 Male 426783006\n",
      "62 Female 164884008\n",
      "30 Male 164931005\n",
      "34 Female 429622005\n",
      "61 Male 164931005\n",
      "52 Male 59118001\n",
      "62 Male 164931005\n",
      "42 Female 426783006\n",
      "55 Male 426783006\n",
      "17 Male 270492004\n",
      "28 Female 429622005\n",
      "40 Female 426783006\n",
      "88 Male 270492004\n",
      "85 Female 164889003,59118001\n",
      "84 Male 164909002\n",
      "67 Male 164884008\n",
      "31 Female 284470004\n",
      "54 Female 429622005\n",
      "85 Female 284470004\n",
      "67 Male 164884008\n"
     ]
    }
   ],
   "source": [
    "gen_reference_csv(data_dir, reference_csv)"
   ]
  },
  {
   "cell_type": "code",
   "execution_count": 113,
   "metadata": {},
   "outputs": [],
   "source": [
    "gen_label_csv(label_csv, reference_csv, dx_dict, classes)"
   ]
  },
  {
   "cell_type": "code",
   "execution_count": 114,
   "metadata": {},
   "outputs": [],
   "source": [
    "#reference\n",
    "if not os.path.exists(reference_csv):\n",
    "        recordpaths = glob(os.path.join(data_dir, '*.hea'))\n",
    "        results = []\n",
    "        for recordpath in recordpaths:\n",
    "            patient_id = recordpath.split(split_type)[-1][:-4]\n",
    "            # print(patient_id)\n",
    "            # print(recordpath)\n",
    "            # print(recordpath[:-4])\n",
    "            _, meta_data = wfdb.rdsamp(recordpath[:-4])\n",
    "            sample_rate = meta_data['fs']\n",
    "            signal_len = meta_data['sig_len']\n",
    "            age = meta_data['comments'][0]\n",
    "            sex = meta_data['comments'][1]\n",
    "            dx = meta_data['comments'][2]\n",
    "            age = age[5:] if age.startswith('Age: ') else np.NaN\n",
    "            sex = sex[5:] if sex.startswith('Sex: ') else 'Unknown'\n",
    "            dx = dx[4:] if dx.startswith('Dx: ') else ''\n",
    "            print(age,sex,dx)\n",
    "            results.append([patient_id, sample_rate, signal_len, age, sex, dx])\n",
    "        df = pd.DataFrame(data=results, columns=['patient_id', 'sample_rate', 'signal_len', 'age', 'sex', 'dx'])\n",
    "        df.sort_values('patient_id').to_csv(reference_csv, index=None)\n"
   ]
  },
  {
   "cell_type": "code",
   "execution_count": 116,
   "metadata": {},
   "outputs": [],
   "source": [
    "#label\n",
    "if not os.path.exists(label_csv):\n",
    "        results = []\n",
    "        df_reference = pd.read_csv(reference_csv)\n",
    "        for _, row in df_reference.iterrows():\n",
    "            patient_id = row['patient_id']\n",
    "            dxs = [dx_dict.get(code, '') for code in row['dx'].split(',')]\n",
    "            labels = [0] * 9\n",
    "            for idx, label in enumerate(classes):\n",
    "                if label in dxs:\n",
    "                    labels[idx] = 1\n",
    "            results.append([patient_id] + labels)\n",
    "        df = pd.DataFrame(data=results, columns=['patient_id'] + classes)\n",
    "        n = len(df)\n",
    "        folds = np.zeros(n, dtype=np.int8)\n",
    "        for i in range(10):\n",
    "            start = int(n * i / 10)\n",
    "            end = int(n * (i + 1) / 10)\n",
    "            folds[start:end] = i + 1\n",
    "        df['fold'] = np.random.permutation(folds)\n",
    "        columns = df.columns\n",
    "        df['keep'] = df[classes].sum(axis=1)\n",
    "        df = df[df['keep'] > 0]\n",
    "        df[columns].to_csv(label_csv, index=None)"
   ]
  }
 ],
 "metadata": {
  "kernelspec": {
   "display_name": "base",
   "language": "python",
   "name": "python3"
  },
  "language_info": {
   "codemirror_mode": {
    "name": "ipython",
    "version": 3
   },
   "file_extension": ".py",
   "mimetype": "text/x-python",
   "name": "python",
   "nbconvert_exporter": "python",
   "pygments_lexer": "ipython3",
   "version": "3.11.5"
  }
 },
 "nbformat": 4,
 "nbformat_minor": 2
}
