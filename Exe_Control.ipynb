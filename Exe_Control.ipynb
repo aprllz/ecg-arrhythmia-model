{
 "cells": [
  {
   "cell_type": "code",
   "execution_count": 1,
   "metadata": {
    "vscode": {
     "languageId": "python"
    }
   },
   "outputs": [
    {
     "data": {
      "text/plain": [
       "(array([ 9,  2,  6,  1,  8,  3, 10,  5]), array([4]), array([7]))"
      ]
     },
     "execution_count": 1,
     "metadata": {},
     "output_type": "execute_result"
    }
   ],
   "source": [
    "#random 10 numbers and sort them\n",
    "import random\n",
    "def random_sort():\n",
    "    numbers = []\n",
    "    for i in range(10):\n",
    "        numbers.append(random.randint(1,100))\n",
    "    print(numbers)\n",
    "    numbers.sort()\n",
    "    print(numbers)\n",
    "random_sort()\n"
   ]
  },
  {
   "cell_type": "code",
   "execution_count": null,
   "metadata": {
    "vscode": {
     "languageId": "python"
    }
   },
   "outputs": [],
   "source": [
    "# %run \"preprocess.py\" --data-dir \"data\\train_dataset\"\n",
    "#run function move file and handle .hea files\n",
    "# %run \"preprocess.py\" --data-dir \"data\\chapman_shaoxing\"\n",
    "# %run \"preprocess.py\" --data-dir \"data\\test_dataset\"\n",
    "# %run \"baselines.py\" --data-dir \"data\\train_dataset\" --classifier \"LR\"\n",
    "%run \"main.py\" --data-dir \"data\\cpsc_2018_extra\" --leads 'all' --epochs 1 --batch-size 200"
   ]
  }
 ],
 "metadata": {
  "kernelspec": {
   "display_name": "MATLAB Kernel",
   "language": "matlab",
   "name": "jupyter_matlab_kernel"
  },
  "language_info": {
   "codemirror_mode": {
    "name": "ipython",
    "version": 3
   },
   "file_extension": ".py",
   "mimetype": "text/x-python",
   "name": "matlab",
   "nbconvert_exporter": "python",
   "pygments_lexer": "ipython3",
   "version": "3.11.5"
  }
 },
 "nbformat": 4,
 "nbformat_minor": 2
}
